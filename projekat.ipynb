{
 "cells": [
  {
   "cell_type": "markdown",
   "metadata": {},
   "source": [
    "# Vežbe 2 - OCR (Optical character recognition)"
   ]
  },
  {
   "cell_type": "markdown",
   "metadata": {},
   "source": [
    "Cilj ovih vežbi je implementacija osnovne verzije OCR-a i upoznavanje sa Keras okruženjem za rad sa neuronskim mrežama.\n",
    "\n",
    "* Keras - Python biblioteka za laku implementaciju neuronski mreža (http://keras.io/)\n",
    "\n"
   ]
  },
  {
   "cell_type": "markdown",
   "metadata": {},
   "source": [
    "### Tok aktivnosti implementacije OCR - a \n",
    "\n",
    "Tok aktivnosti predstavlja korake koje je potrebno izvršiti prilikom implementacije OCR-a.\n",
    "\n",
    "<img src=\"images/Tok aktivnosti.png\">"
   ]
  },
  {
   "cell_type": "markdown",
   "metadata": {
    "collapsed": true
   },
   "source": [
    "### Početak implementacije\n",
    "Skup biblioteka sa prethodnih vežbi smo proširili Keras bibliotekom za rad sa neuronskim mrežama."
   ]
  },
  {
   "cell_type": "code",
   "execution_count": 2,
   "metadata": {
    "collapsed": false
   },
   "outputs": [
    {
     "name": "stderr",
     "output_type": "stream",
     "text": [
      "Using Theano backend.\n"
     ]
    }
   ],
   "source": [
    "#import potrebnih biblioteka\n",
    "%matplotlib inline\n",
    "import cv2\n",
    "import numpy as np \n",
    "import matplotlib.pyplot as plt \n",
    "import collections\n",
    "\n",
    "# keras\n",
    "from keras.models import Sequential\n",
    "from keras.layers.core import Dense,Activation\n",
    "from keras.optimizers import SGD\n",
    "\n",
    "import matplotlib.pylab as pylab\n",
    "pylab.rcParams['figure.figsize'] = 16, 12 # za prikaz većih slika i plotova, zakomentarisati ako nije potrebno"
   ]
  },
  {
   "cell_type": "markdown",
   "metadata": {},
   "source": [
    "## Korak 1 - 3\n",
    "Ovi koraci su detaljno objašnjeni na prethodnim vežbama, tako da neće biti dodatno objašnjavani"
   ]
  },
  {
   "cell_type": "code",
   "execution_count": 3,
   "metadata": {
    "collapsed": false
   },
   "outputs": [],
   "source": [
    "def load_image(path):\n",
    "    return cv2.cvtColor(cv2.imread(path), cv2.COLOR_BGR2RGB)\n",
    "def image_gray(image):\n",
    "    return cv2.cvtColor(image, cv2.COLOR_RGB2GRAY)\n",
    "def image_bin(image_gs):\n",
    "    height, width = image_gs.shape[0:2]\n",
    "    image_binary = np.ndarray((height, width), dtype=np.uint8)\n",
    "    ret,image_bin = cv2.threshold(image_gs, 127, 255, cv2.THRESH_BINARY)\n",
    "    return image_bin\n",
    "def invert(image):\n",
    "    return 255-image\n",
    "def display_image(image, color= False):\n",
    "    if color:\n",
    "        plt.imshow(image)\n",
    "    else:\n",
    "        plt.imshow(image, 'gray')\n",
    "def dilate(image):\n",
    "    kernel = np.ones((3,3)) # strukturni element 3x3 blok\n",
    "    return cv2.dilate(image, kernel, iterations=1)\n",
    "def erode(image):\n",
    "    kernel = np.ones((3,3)) # strukturni element 3x3 blok\n",
    "    return cv2.erode(image, kernel, iterations=1)"
   ]
  },
  {
   "cell_type": "markdown",
   "metadata": {},
   "source": [
    "### Korak 4 -  izdvajanje regiona od interesa\n",
    "\n",
    "U ovom koraku potrebno je izdvojiti samo regione(konture) od interesa. Potrebno je označiti regione od interesa na slici i napraviti listu slika od regiona koja će kasnije biti ulaz za neuronsku mrežu."
   ]
  },
  {
   "cell_type": "markdown",
   "metadata": {},
   "source": [
    "### TODO 1\n",
    "Za potrebe TODO 1 implementirati funkciju za promenu veličine slike na 28 x 28. Ovo se radi kako bi svi regioni koje ćemo koristiti za neuronsku mrežu bili iste veličine. *(pomoć: pogledati OpenCV funkciju resize)*"
   ]
  },
  {
   "cell_type": "code",
   "execution_count": 4,
   "metadata": {
    "collapsed": false
   },
   "outputs": [
    {
     "name": "stdout",
     "output_type": "stream",
     "text": [
      "TODO 1 test passed: True\n"
     ]
    }
   ],
   "source": [
    "# TODO 1 \n",
    "def resize_region(region):\n",
    "    '''Transformisati selektovani region na sliku dimenzija 28x28'''\n",
    "    return cv2.resize(region,(28,28), interpolation = cv2.INTER_NEAREST)\n",
    "\n",
    "# TODO 1 test\n",
    "todo_1_img = load_image('images/todo_1_test.png')\n",
    "todo_1_ref = (28,28)\n",
    "todo_1_res = resize_region(todo_1_img).shape[0:2]\n",
    "print 'TODO 1 test passed:', todo_1_res == todo_1_ref"
   ]
  },
  {
   "cell_type": "markdown",
   "metadata": {},
   "source": [
    "### TODO 2\n",
    "* Označiti regione od interesa na originalnoj slici.\n",
    "* Za svaki region napraviti posebnu sliku dimenzija 28 x 28. \n",
    "* Za označavanje regiona koristiti metodu cv2.boundingRect(contour).\n",
    "* Kao povratnu vrednost vratiti originalnu sliku na kojoj su obeleženi regioni (koristiti OpenCV funkciju **rectangle**) i niz slika koje predstavljaju regione sortirane  po rastućoj vrednosti x ose"
   ]
  },
  {
   "cell_type": "code",
   "execution_count": 5,
   "metadata": {
    "collapsed": false
   },
   "outputs": [],
   "source": [
    "# TODO 2\n",
    "def select_roi(image_orig, image_bin):\n",
    "    '''Oznaciti regione od interesa na originalnoj slici. (ROI = regions of interest)\n",
    "        Za svaki region napraviti posebnu sliku dimenzija 28 x 28. \n",
    "        Za označavanje regiona koristiti metodu cv2.boundingRect(contour).\n",
    "        Kao povratnu vrednost vratiti originalnu sliku na kojoj su obeleženi regioni\n",
    "        i niz slika koje predstavljaju regione sortirane po rastućoj vrednosti x ose\n",
    "    '''\n",
    "    img, contours, hierarchy = cv2.findContours(image_bin.copy(), cv2.RETR_LIST, cv2.CHAIN_APPROX_SIMPLE)\n",
    "    sorted_regions = [] # lista sortiranih regiona po x osi (sa leva na desno)\n",
    "    regions_dic = {}\n",
    "    for contour in contours: \n",
    "        x,y,w,h = cv2.boundingRect(contour) #koordinate i velicina granicnog pravougaonika\n",
    "        area = cv2.contourArea(contour)\n",
    "        if area > 100 and h < 100 and h > 15 and w > 20:\n",
    "            # kopirati [y:y+h+1, x:x+w+1] sa binarne slike i smestiti u novu sliku\n",
    "            # označiti region pravougaonikom na originalnoj slici (image_orig) sa rectangle funkcijom\n",
    "            region = image_bin[y:y+h+1,x:x+w+1];\n",
    "            regions_dic[x] = resize_region(region)       \n",
    "            cv2.rectangle(image_orig,(x,y),(x+w,y+h),(0,255,0),2)\n",
    "    \n",
    "    sorted_regions_dic = collections.OrderedDict(sorted(regions_dic.items()))\n",
    "    sorted_regions = sorted_regions_dic.values()\n",
    "    # sortirati sve regione po x osi (sa leva na desno) i smestiti u promenljivu sorted_regions\n",
    "    return image_orig, sorted_regions"
   ]
  },
  {
   "cell_type": "markdown",
   "metadata": {},
   "source": [
    "## Korak 5\n",
    "\n",
    "Regioni od interesa su predstavljeni vektorom čiji su elementi matrice dimenzija 28x28. Elementi matrica su vrednosti 0 ili 255. Potrebno je skalirati vrednosti elemenata matrice na opseg od 0 do 1, kako bi se pogodio linearni deo sigmoid funkcije i smanjilo vreme obučavanja.\n",
    "Nakon skaliranja matrice je potrebno transformisati u vektor od 784 elementa."
   ]
  },
  {
   "cell_type": "markdown",
   "metadata": {},
   "source": [
    "###TODO 3\n",
    "\n",
    "Skalirati sve elemente matrice sa celobrojnog opsega [0, 255] na realni opseg [0, 1]."
   ]
  },
  {
   "cell_type": "code",
   "execution_count": 6,
   "metadata": {
    "collapsed": false
   },
   "outputs": [
    {
     "name": "stdout",
     "output_type": "stream",
     "text": [
      "TODO 3 test passed: True\n"
     ]
    }
   ],
   "source": [
    "# TODO 3\n",
    "def scale_to_range(image): # skalira elemente slike na opseg od 0 do 1\n",
    "    ''' Elementi matrice image su vrednosti 0 ili 255. \n",
    "        Potrebno je skalirati sve elemente matrica na opseg od 0 do 1\n",
    "    '''\n",
    "    return image/255\n",
    "\n",
    "# TODO 3 test\n",
    "todo_3_matrix = np.array([[0, 255], [51, 153]], dtype='float')\n",
    "todo_3_ref = np.array([[0., 1.], [0.2, 0.6]], dtype='float')\n",
    "todo_3_res = scale_to_range(todo_3_matrix)\n",
    "print 'TODO 3 test passed:', np.array_equal(todo_3_res, todo_3_ref)"
   ]
  },
  {
   "cell_type": "markdown",
   "metadata": {},
   "source": [
    "###TODO 4\n",
    "\n",
    "Region koji je zapravo slika (matrica) dimenzija 28x28 transformiati u vektor od 784 elementa."
   ]
  },
  {
   "cell_type": "code",
   "execution_count": 7,
   "metadata": {
    "collapsed": false
   },
   "outputs": [
    {
     "name": "stdout",
     "output_type": "stream",
     "text": [
      "TODO 4 test passed: True\n"
     ]
    }
   ],
   "source": [
    "# TODO 4\n",
    "def matrix_to_vector(image):\n",
    "    '''Sliku koja je zapravo matrica 28x28 transformisati u vektor sa 784 elementa'''\n",
    "    return image.flatten()\n",
    "\n",
    "# TODO 4 test\n",
    "todo_4_image = np.ndarray((28,28))\n",
    "todo_4_ref = (784L,)\n",
    "todo_4_res = matrix_to_vector(todo_4_image).shape\n",
    "print 'TODO 4 test passed:', todo_4_res == todo_4_ref"
   ]
  },
  {
   "cell_type": "markdown",
   "metadata": {},
   "source": [
    "###TODO 5\n",
    "\n",
    "Svaki region pripremiti za ulaz na neuronsku mrežu: skaliranje elemenata na [0,1] i transformaciju u vektor."
   ]
  },
  {
   "cell_type": "code",
   "execution_count": 8,
   "metadata": {
    "collapsed": false
   },
   "outputs": [],
   "source": [
    "# TODO 5\n",
    "def prepare_for_ann(regions):\n",
    "    '''Regioni su matrice dimenzija 28x28 čiji su elementi vrednosti 0 ili 255.\n",
    "        Potrebno je skalirati elemente regiona na [0,1] i transformisati ga u vektor od 784 elementa '''\n",
    "    ready_for_ann = []\n",
    "    for region in regions:\n",
    "        # skalirati elemente regiona (metoda iz TODO 3 scale_to_range)\n",
    "        # region sa skaliranim elementima pretvoriti u vektor (metoda iz TODO 4 matrix_to_vector)\n",
    "        # vektor dodati u listu spremnih regiona\n",
    "        scale = scale_to_range(region)\n",
    "        ready_for_ann.append(matrix_to_vector(scale))\n",
    "        \n",
    "    return ready_for_ann"
   ]
  },
  {
   "cell_type": "markdown",
   "metadata": {},
   "source": [
    "###TODO 6\n",
    "\n",
    "Konvertovati alfabet u niz pogodan za obučavanje NM, odnosno niz čiji su svi elementi 0 osim elementa čiji je indeks jednak indeksu elementa iz alfabeta za koji formiramo niz.\n",
    "Primer prvi element iz alfabeta [1,0,0,0,0,0,0,0,0,0], za drugi [0,1,0,0,0,0,0,0,0,0] itd.."
   ]
  },
  {
   "cell_type": "code",
   "execution_count": 9,
   "metadata": {
    "collapsed": false
   },
   "outputs": [
    {
     "name": "stdout",
     "output_type": "stream",
     "text": [
      "TODO 6 test passed: True\n"
     ]
    }
   ],
   "source": [
    "# TODO 6\n",
    "def convert_output(alphabet):\n",
    "    '''Konvertovati alfabet u niz pogodan za obučavanje NM,\n",
    "        odnosno niz čiji su svi elementi 0 osim elementa čiji je\n",
    "        indeks jednak indeksu elementa iz alfabeta za koji formiramo niz.\n",
    "        Primer prvi element iz alfabeta [1,0,0,0,0,0,0,0,0,0],\n",
    "        za drugi [0,1,0,0,0,0,0,0,0,0] itd..\n",
    "    '''\n",
    "    nn_outputs = []\n",
    "    for index in range(len(alphabet)):\n",
    "        output = np.zeros(len(alphabet))\n",
    "        output[index] = 1\n",
    "        nn_outputs.append(output)\n",
    "    return np.array(nn_outputs)\n",
    "\n",
    "# TODO 6 test\n",
    "test_6_alphabet = [0, 1, 2]\n",
    "test_6_ref = np.array([[1, 0, 0], [0, 1, 0], [0, 0, 1]], dtype='float')\n",
    "test_6_res = convert_output(test_6_alphabet).astype('float')\n",
    "print 'TODO 6 test passed:', np.array_equal(test_6_res, test_6_ref)"
   ]
  },
  {
   "cell_type": "markdown",
   "metadata": {},
   "source": [
    "##Korak 6"
   ]
  },
  {
   "cell_type": "markdown",
   "metadata": {},
   "source": [
    "### Neuronska mreža\n",
    "\n",
    "Veštačka neuronska mreža se sastoji od 784 ulazna neurona, 128 neurona u skrivenom sloju i 10 neurona na izlazu. Zašto baš 784 neurona na ulazu i 10 neurona na izlazu? Regione smo transformisali prvo na matricu dimenzija 28x28,a zatim u vektor od 784 elementa. Što se tiče 10 neurona na izlazu, to je posledica broja znakova u alfabetu. U našem primeru alfabet (0,1,2,3,4,5,6,7,8,9) ima 10 elemenata pa nam je potrebno 10 neurona na izlazu.\n",
    "Neuronska mreža je implementirana pomoću Keras biblioteke.\n",
    "<img src=\"images/neuronska_mreza.png\">\n",
    "\n",
    "### Sigmoidalna aktivaciona funkcija\n",
    "$ sigm(x) = \\dfrac{1}{1 + e^{-x}} $\n",
    "\n",
    "<img src=\"https://upload.wikimedia.org/wikipedia/commons/thumb/8/88/Logistic-curve.svg/2000px-Logistic-curve.svg.png\" width=\"300\" height=\"300\">"
   ]
  },
  {
   "cell_type": "code",
   "execution_count": 10,
   "metadata": {
    "collapsed": false
   },
   "outputs": [],
   "source": [
    "def create_ann():\n",
    "    '''Implementacija veštačke neuronske mreže sa 784 neurona na uloznom sloju,\n",
    "        128 neurona u skrivenom sloju i 10 neurona na izlazu. Aktivaciona funkcija je sigmoid.\n",
    "    '''\n",
    "    ann = Sequential()\n",
    "    ann.add(Dense(128, input_dim=784, activation='sigmoid'))\n",
    "    ann.add(Dense(10, activation='sigmoid'))\n",
    "    return ann\n",
    "    \n",
    "def train_ann(ann, X_train, y_train):\n",
    "    '''Obucavanje vestacke neuronske mreze'''\n",
    "    X_train = np.array(X_train, np.float32) # dati ulazi\n",
    "    y_train = np.array(y_train, np.float32) # zeljeni izlazi za date ulaze\n",
    "   \n",
    "    # definisanje parametra algoritma za obucavanje\n",
    "    sgd = SGD(lr=0.01, momentum=0.9)\n",
    "    ann.compile(loss='mean_squared_error', optimizer=sgd)\n",
    "\n",
    "    # obucavanje neuronske mreze\n",
    "    ann.fit(X_train, y_train, nb_epoch=2000, batch_size=1, verbose = 0, shuffle=False, show_accuracy = False) \n",
    "      \n",
    "    return ann"
   ]
  },
  {
   "cell_type": "markdown",
   "metadata": {},
   "source": [
    "##Korak 7 - određivanje pobedničkog neurona\n",
    "\n",
    "Određivanje pobedničkog neurona. Pobednički neuron je neuron čija je aktivaciona vrednost najveća. Npr. ako imamo dva neurona sa aktivacionim vrednostima 0.3 i 0.89, pobednik je drugi sa aktivacijom 0.89.\n",
    "\n",
    "##TODO 7\n",
    "\n",
    "Pronaći indeks neurona koji je najviše pobuđen.\n"
   ]
  },
  {
   "cell_type": "code",
   "execution_count": 11,
   "metadata": {
    "collapsed": false
   },
   "outputs": [
    {
     "name": "stdout",
     "output_type": "stream",
     "text": [
      "TODO 7 test passed: True\n"
     ]
    }
   ],
   "source": [
    "# TODO 7\n",
    "def winner(output): # output je vektor sa izlaza neuronske mreze\n",
    "    '''pronaći i vratiti indeks neurona koji je najviše pobuđen'''\n",
    "    return max(enumerate(output), key=lambda x: x[1])[0]\n",
    "\n",
    "# TODO 7 test\n",
    "todo_7_output = [0., 0.2, 0.3, 0.95]\n",
    "todo_7_ref = 3\n",
    "todo_7_res = winner(todo_7_output)\n",
    "print 'TODO 7 test passed:', todo_7_res == todo_7_ref"
   ]
  },
  {
   "cell_type": "markdown",
   "metadata": {},
   "source": [
    "##Korak 8 - prikaz rezultata\n",
    "\n",
    "Pikazati rezultat prepoznavanja neuronske mreže. Za svaki rezultat pronaći indeks pobedničkog  neurona koji ujedno predstavlja i indeks prepoznatog elementa u alfabetu. Dodati karakter iz alfabeta u result"
   ]
  },
  {
   "cell_type": "code",
   "execution_count": 12,
   "metadata": {
    "collapsed": true
   },
   "outputs": [],
   "source": [
    "def display_result(outputs, alphabet):\n",
    "    '''za svaki rezultat pronaći indeks pobedničkog\n",
    "        regiona koji ujedno predstavlja i indeks u alfabetu.\n",
    "        Dodati karakter iz alfabet u result'''\n",
    "    result = []\n",
    "    for output in outputs:\n",
    "        result.append(alphabet[winner(output)])\n",
    "    return result"
   ]
  },
  {
   "cell_type": "markdown",
   "metadata": {
    "collapsed": false
   },
   "source": [
    "## Start\n",
    "Učitati sliku za obučavanje veštačke neuronske mreže. Transformisati sliku i binarni oblik i označiti regione od interesa (u ovom slučaju to su brojevi od 0 do 9).\n",
    "Prikazati sliku sa označenim regionima od interesa."
   ]
  },
  {
   "cell_type": "code",
   "execution_count": 27,
   "metadata": {
    "collapsed": false,
    "scrolled": false
   },
   "outputs": [
    {
     "data": {
      "image/png": "[encoded data removed]",
      "text/plain": [
       "<matplotlib.figure.Figure at 0xbc73050>"
      ]
     },
     "metadata": {},
     "output_type": "display_data"
    }
   ],
   "source": [
    "image_color = load_image('images/brojevi2.png')\n",
    "img = invert(image_bin(image_gray(image_color)))\n",
    "img_bin = erode(dilate(img))\n",
    "selected_regions, numbers = select_roi(image_color.copy(), img)\n",
    "display_image(selected_regions)\n",
    "display_image(img_bin)\n"
   ]
  },
  {
   "cell_type": "code",
   "execution_count": 23,
   "metadata": {
    "collapsed": false
   },
   "outputs": [],
   "source": [
    "# insert alphabet here\n",
    "alphabet = [1,2,3,4,5,6,7,8,9,0]"
   ]
  },
  {
   "cell_type": "code",
   "execution_count": 22,
   "metadata": {
    "collapsed": false,
    "scrolled": true
   },
   "outputs": [],
   "source": [
    "inputs = prepare_for_ann(numbers)\n",
    "outputs = convert_output(alphabet)\n",
    "ann = create_ann()\n",
    "ann = train_ann(ann, inputs, outputs)"
   ]
  },
  {
   "cell_type": "markdown",
   "metadata": {},
   "source": [
    "### Verifikacija i primer predikcije\n",
    "\n",
    "Za verifikaciju obučenosti neuronske mreže ćemo uzeti drugi i treći ulazni vektor (brojevi 3 i 4 iz alfabeta).\n",
    "Metoda **model.predict** kao ulazni parametar prima niz vektora dimenzija 784.\n",
    "Rezultat **predict** metode je niz vektora dimenzije 10, koji sadrži koeficijente pobuđenosti."
   ]
  },
  {
   "cell_type": "code",
   "execution_count": 24,
   "metadata": {
    "collapsed": false
   },
   "outputs": [
    {
     "name": "stdout",
     "output_type": "stream",
     "text": [
      "[[ 0.01678181  0.02044868  0.95596683  0.00772037  0.01641213  0.0037591\n",
      "   0.01723692  0.02365533  0.0186955   0.00962151]\n",
      " [ 0.0195286   0.01354386  0.00618766  0.96569401  0.01463024  0.01111767\n",
      "   0.0190946   0.01800523  0.00186442  0.00779148]]\n",
      "[3, 4]\n"
     ]
    }
   ],
   "source": [
    "result = ann.predict(np.array(inputs[2:4], np.float32))\n",
    "print result\n",
    "print display_result(result, alphabet)"
   ]
  },
  {
   "cell_type": "markdown",
   "metadata": {
    "collapsed": false
   },
   "source": [
    "## TODO 8\n",
    "\n",
    "Učitati sliku za testiranje rada OCR -a  'images/test.png'. Transformisati sliku u oblik pogodan za ulaz u neuronsku mrežu. \n",
    "Prikazati rezultate predikcije kao i sliku sa označenim regionima od interesa.\n",
    "\n",
    "PSEUDO KOD:\n",
    "* učitati sliku 'images/test.png'\n",
    "* pretvoriti sliku u binarnu i ako je potrebno invertovati je\n",
    "* ako je potrebno primeniti eroziju i/ili diletaciju\n",
    "* selektovati regione od značaja\n",
    "* pripremiti podatke za ulaz na NM\n",
    "* pozvati metodu **predict**, a kao parametar proslediti pripremljene podatke\n",
    "* prikazati rezultate predikcije\n"
   ]
  },
  {
   "cell_type": "code",
   "execution_count": 292,
   "metadata": {
    "collapsed": false
   },
   "outputs": [
    {
     "name": "stdout",
     "output_type": "stream",
     "text": [
      "[2, 5, 1, 9, 6, 4, 2, 0, 3, 7, 5]\n"
     ]
    },
    {
     "data": {
      "image/png": "[encoded data removed]",
      "text/plain": [
       "<matplotlib.figure.Figure at 0x15599e30>"
      ]
     },
     "metadata": {},
     "output_type": "display_data"
    }
   ],
   "source": [
    "# TODO 8\n",
    "test_color = load_image('images/slagalica8.png')\n",
    "test = invert(image_bin(image_gray(test_color)))\n",
    "#test_bin = erode(dilate(erode((dilate(dilate(erode(dilate(dilate(dilate(dilate(erode(erode(erode(dilate(test)))))))))))))))\n",
    "\n",
    "\n",
    "display_image(test)\n",
    "\n",
    "for i in range (1,50):\n",
    "    test =erode(dilate(test))\n",
    "\n",
    "for i in range (1,4):\n",
    "    test=dilate(test)\n",
    "    \n",
    "for i in range (1,7):\n",
    "    test=erode(test)\n",
    "\n",
    "for i in range (1,3):\n",
    "    test=dilate(test)\n",
    "    \n",
    "for i in range (1,1):\n",
    "    test=erode(test)\n",
    "\n",
    "\n",
    "test_bin=test\n",
    "\n",
    "selected_test, test_numbers = select_roi(test_color.copy(),test_bin)\n",
    "display_image(selected_test)\n",
    "test_inputs = prepare_for_ann(test_numbers)\n",
    "result = ann.predict(np.array(test_inputs, np.float32))\n",
    "\n",
    "print display_result(result, alphabet)\n",
    "trazeni_broj= 100*alphabet[winner(result[4])] + 10*alphabet[winner(result[5])] + alphabet[winner(result[8])]\n",
    "b1=alphabet[winner(result[0])]\n",
    "b2=alphabet[winner(result[1])]\n",
    "b3=alphabet[winner(result[2])]\n",
    "b4=alphabet[winner(result[3])]\n",
    "b5=10*alphabet[winner(result[6])]+alphabet[winner(result[7])]\n",
    "if alphabet[winner(result[9])]==1:\n",
    "    b6=100\n",
    "else:\n",
    "    b6=10*alphabet[winner(result[9])]+alphabet[winner(result[10])]\n",
    "\n",
    "\n",
    "\n",
    "def izracunaj(sum,br,t,s):\n",
    "    \n",
    "    for idx,value in enumerate(br):\n",
    "        if value== t:\n",
    "            s+=str(value)\n",
    "            sum+=value\n",
    "            print s\n",
    "            return\n",
    "        else:\n",
    "            br2=[]\n",
    "            br.remove(value)\n",
    "            br2=br\n",
    "            #sum=\n",
    "            #for idx,value in enumerate(br2):\n",
    "             #   if sum+value==t:\n",
    "                    \n",
    "            br.insert(idx,value)\n",
    "            \n",
    "    \n",
    "    return   \n",
    "\n",
    "br=[]\n",
    "br.append(b1)\n",
    "br.append(b2)\n",
    "br.append(b3)\n",
    "br.append(b4)\n",
    "br.append(b5)\n",
    "br.append(b6)\n",
    "\n",
    "s=\"\"\n",
    "#izracunaj(0,br,trazeni_broj,s)\n",
    "\n",
    "#izracunaj (b1,b2,b3,b4,b5,b6,99)\n",
    "        "
   ]
  },
  {
   "cell_type": "markdown",
   "metadata": {
    "collapsed": true
   },
   "source": [
    "### TODO dodatno\n",
    "\n",
    "Implementirati kalkulator. Alfabet za kalkulator i test primeri se nalaze u 'images/kalkulator_alfabet.png'."
   ]
  },
  {
   "cell_type": "code",
   "execution_count": 293,
   "metadata": {
    "collapsed": false
   },
   "outputs": [
    {
     "name": "stdout",
     "output_type": "stream",
     "text": [
      "in first bit\n",
      "returning from first bit\n"
     ]
    },
    {
     "data": {
      "text/plain": [
       "'  75-1=74  74-2=72  72*9=648  648-5=643 ____________________  75-2=73  73-1=72  72*9=648  648-5=643 ____________________  75-1=74  74*9=666  666-20=646  646-5=641  641+2=643 ____________________  75-1=74  74*9=666  666-5=661  661-20=641  641+2=643 ____________________  75-1=74  74-5=69  69*9=621  621+20=641  641+2=643 ____________________  75-5=70  70-1=69  69*9=621  621+20=641  641+2=643 ____________________  5-1=4  4*20=80  80*9=720  720-75=645  645-2=643 ____________________  5-1=4  4*9=36  36*20=720  720-75=645  645-2=643 ____________________  75-1=74  74*9=666  666-20=646  646+2=648  648-5=643 ____________________  75-2=73  73*9=657  657-20=637  637+1=638  638+5=643 ____________________  75-1=74  74*9=666  666+2=668  668-20=648  648-5=643 ____________________  75-2=73  73*9=657  657+1=658  658-20=638  638+5=643 ____________________  75-2=73  73*9=657  657-20=637  637+5=642  642+1=643 ____________________  75-2=73  73*9=657  657+5=662  662-20=642  642+1=643 ____________________  75-1=74  74*9=666  666-5=661  661+2=663  663-20=643 ____________________  75-1=74  74-5=69  69*9=621  621+2=623  623+20=643 ____________________  75-5=70  70-1=69  69*9=621  621+2=623  623+20=643 ____________________  75-1=74  74*9=666  666+2=668  668-5=663  663-20=643 ____________________  75-2=73  73*9=657  657+1=658  658+5=663  663-20=643 ____________________  75-2=73  73*9=657  657+5=662  662+1=663  663-20=643 ____________________  5-1=4  4*20=80  80*9=720  720-2=718  718-75=643 ____________________  5-1=4  4*9=36  36*20=720  720-2=718  718-75=643 ____________________'"
      ]
     },
     "execution_count": 293,
     "metadata": {},
     "output_type": "execute_result"
    }
   ],
   "source": [
    "# TODO dodatno - kalkulator\n",
    "# PSEUDO KOD\n",
    "# UČITATI ALFABET ZA KALKULATOR (alfabet sadrži 14 karaktera)\n",
    "# PRETVORITI SLIKU U BINARNU I OZNAČITI REGIONE OD INTERESA select_roi\n",
    "# UNETI NOVI ALFABET\n",
    "# PRIPREMITI SELEKTOVANE REGIONE ZA OBUČAVANJE NEURONSKE MREŽE\n",
    "# KONVERTOVATI NOVI ALFABET ZA OBUČAVANJE NEURONSKE MREŽE\n",
    "# MODELOVATI PREŽU. NAPOMENA: PROVERITI DA LI JE BROJ IZLAZA ADEKVATNO POSTAVLJEN\n",
    "# KREIRATI PREŽU create_ann\n",
    "# OBUČITI MREŽU train_ann\n",
    "'''\n",
    "from math import factorial as fac\n",
    "\n",
    "def lang_k_rec(available_o, available_n, k, x, possible):\n",
    "    if available_n > 0:\n",
    "        lang_k_rec(available_o, available_n - 1, k + 'N', x + 1, possible)\n",
    "    if available_o > 0 and x > 1:\n",
    "        lang_k_rec(available_o - 1, available_n, k + 'O', x - 1, possible)\n",
    "    if available_o == 0 and available_n == 0:\n",
    "        possible.append('NN' + k + 'O')\n",
    "\n",
    "def gen_lang():\n",
    "    possible_k = [[], [], [], [], []]\n",
    "    for av in range(5):\n",
    "        lang_k_rec(av, av, '', 2, possible_k[av])\n",
    "        possible_k[av].sort()\n",
    "    return possible_k\n",
    "\n",
    "if __name__ == \"__main__\":\n",
    "    ntotal = 0\n",
    "    possible_k = gen_lang()\n",
    "    for av in range(5):\n",
    "        print(possible_k[av])\n",
    "        l = len(possible_k[av])\n",
    "        print(l, 'words')\n",
    "        n = 4**(1 + av) * (fac(6) // fac(4 - av)) * l\n",
    "        ntotal += n\n",
    "        print(n, 'possibilities\\n')\n",
    "    print(ntotal, 'total possibilities')\n",
    "    \n",
    "from itertools import permutations, product, chain\n",
    "from sys import version_info\n",
    "\n",
    "def solve(nums, lang):\n",
    "    assert(len(nums) == 6)\n",
    "    solutions = {}\n",
    "    for (lang_i, lang_vec) in enumerate(lang):\n",
    "        if len(solutions) == 920:\n",
    "            break\n",
    "        nnums = lang_i + 2\n",
    "        nops = lang_i + 1\n",
    "        for numset in permutations(nums, nnums):\n",
    "            if len(solutions) == 920:\n",
    "                break\n",
    "            for opset in product('+-*/', repeat=nops):\n",
    "                if len(solutions) == 920:\n",
    "                    break\n",
    "                for word in lang_vec:\n",
    "                    if len(solutions) == 920:\n",
    "                        break\n",
    "                    displayres = []\n",
    "                    stack = []\n",
    "                    iopset = chain(opset)\n",
    "                    inumset = chain(numset)\n",
    "                    for c in word:\n",
    "                        if c == 'N':\n",
    "                            x = (next(inumset) if version_info[0] == 3\n",
    "                                 else inumset.next())\n",
    "                            stack.append(x)\n",
    "                        elif c == 'O':\n",
    "                            x = (next(iopset) if version_info[0] == 3\n",
    "                                 else iopset.next())\n",
    "                            v1 = stack.pop()\n",
    "                            v2 = stack.pop()\n",
    "                            if x == '+':\n",
    "                                stack.append(v1 + v2)\n",
    "                            elif x == '-':\n",
    "                                stack.append(v1 - v2)\n",
    "                            # Ones are no good for * or /\n",
    "                            elif v1 == 1 or v2 == 1:\n",
    "                                break\n",
    "                            elif x == '*':\n",
    "                                stack.append(v1 * v2)\n",
    "                            elif x == '/':\n",
    "                                if v1 % v2 != 0:\n",
    "                                    break\n",
    "                                stack.append(v1 // v2)\n",
    "                            else:\n",
    "                                raise ValueError('invalid operator')\n",
    "                        else:\n",
    "                            raise ValueError('invalid character')\n",
    "                        # Zero values are never interesting, because if there is\n",
    "                        # a solution which involves a zero, there's a simpler\n",
    "                        # one without it. Same for negative values.\n",
    "                        if stack[-1] <= 0:\n",
    "                            break\n",
    "                        displayres.append(x)\n",
    "                    else:\n",
    "                        # only check the result if we did not break out of the\n",
    "                        # for loop\n",
    "                        res = stack.pop()\n",
    "                        if 90 <= res <= 1009 and res not in solutions:\n",
    "                            solutions[res] = displayres\n",
    "    return solutions\n",
    "\n",
    "solve(br,gen_lang())\n",
    "'''\n",
    "\n",
    "def printer(equation):\n",
    "    import operator\n",
    "    op = {\"+\": operator.add ,\"-\": operator.sub ,\"*\": operator.mul ,\"/\": operator.div}\n",
    "    numbers = []\n",
    "    operations = []\n",
    "\n",
    "    for i in range(len(equation)):\n",
    "        if equation[i] == 0:\n",
    "            pass\n",
    "\telse:\n",
    "            if i % 2 == 0:\n",
    "                numbers.append(equation[i])\n",
    "            else:\n",
    "                operations.append(equation[i])\n",
    "    c = numbers[0]\n",
    "    body = \"\"\n",
    "    for i in range(len(operations)):\n",
    "        a = c\n",
    "\tb = numbers[i+1]\n",
    "\tc = op[operations[i]](int(a),int(b))\n",
    "\tbody += \"  \" + str(a) + operations[i] + str(b) + \"=\" + str(c)\n",
    "    body += \" ____________________\"\n",
    "    return body\n",
    "\n",
    "def operate(a,b,c,d,e,f,ans):\n",
    "    import operator\n",
    "    answer = int(ans)\n",
    "    op = {\"+\": operator.add,\"-\": operator.sub ,\"*\": operator.mul ,\"/\": operator.div}\n",
    "    if f == 0:\n",
    "        if e == 0:\n",
    "            if d == 0:\n",
    "                if c == 0:\n",
    "                    if b == 0:\n",
    "                        pass\n",
    "\n",
    "                    else:\n",
    "                        for y in op:\n",
    "                            if op[y](a,b) == answer:\n",
    "                                send = printer([str(a),y,str(b),0,0,0,0,0,0,0,0])\n",
    "                                return send\n",
    "\n",
    "                else:\n",
    "                    for y in op:\n",
    "                        for x in op:\n",
    "                            if op[x](op[y](a,b),c) == answer:\n",
    "                                send = printer([str(a),y,str(b),x,str(c),0,0,0,0,0,0])\n",
    "                                return send\n",
    "\n",
    "            else:\n",
    "                for y in op:\n",
    "                    for x in op:\n",
    "                        for w in op:\n",
    "                            if op[w](op[x](op[y](a,b),c),d) == answer:\n",
    "                                send = printer([str(a),y,str(b),x,str(c),w,str(d),0,0,0,0])\n",
    "                                return send\n",
    "\n",
    "        else:\n",
    "            for y in op:\n",
    "                for x in op:\n",
    "                    for w in op:\n",
    "                        for v in op:\n",
    "                            if op[v](op[w](op[x](op[y](a,b),c),d),e) == answer:\n",
    "                                send = printer([str(a),y,str(b),x,str(c),w,str(d),v,str(e),0,0])\n",
    "                                return send\n",
    "\n",
    "    else:\n",
    "        for y in op:\n",
    "            for x in op:\n",
    "                for w in op:\n",
    "                    for v in op:\n",
    "                        for u in op:\n",
    "                            if op[u](op[v](op[w](op[x](op[y](a,b),c),d),e),f) == answer:\n",
    "                                send = printer([str(a),y,str(b),x,str(c),w,str(d),v,str(e),u,str(f)])\n",
    "                                return send\n",
    "\n",
    "\n",
    "\n",
    "def first_bit(ent,answer):\n",
    "    print \"in first bit\"\n",
    "    works = \"\"\n",
    "\n",
    "    for b in range(len(ent)):\n",
    "        for a in range(len(ent)):\n",
    "            if a == b:\n",
    "                pass\n",
    "            else:\n",
    "                if operate(ent[a],ent[b],0,0,0,0,answer) != None: \n",
    "                    works += (operate(ent[a],ent[b],0,0,0,0,answer))\n",
    "                    \n",
    "\n",
    "\n",
    "    for c in range(len(ent)):\n",
    "        for b in range(len(ent)):\n",
    "            for a in range(len(ent)):\n",
    "                if a == b or a == c or b == c:\n",
    "                    pass\n",
    "                else:\n",
    "                    if operate(ent[a],ent[b],ent[c],0,0,0,answer) != None:\n",
    "                        works += (operate(ent[a],ent[b],ent[c],0,0,0,answer))\n",
    "                        \n",
    "\n",
    "\n",
    "    for d in range(len(ent)):\n",
    "        for c in range(len(ent)):\n",
    "            for b in range(len(ent)):\n",
    "                for a in range(len(ent)):\n",
    "                    if a == b or a == c or a == d or b == c or b == d or c == d:\n",
    "                        pass\n",
    "                    else:\n",
    "                        if operate(ent[a],ent[b],ent[c],ent[d],0,0,answer) != None:\n",
    "                            works += (operate(ent[a],ent[b],ent[c],ent[d],0,0,answer))\n",
    "                            \n",
    "\n",
    "\n",
    "    for e in range(len(ent)):\n",
    "        for d in range(len(ent)):\n",
    "            for c in range(len(ent)):\n",
    "                for b in range(len(ent)):\n",
    "                    for a in range(len(ent)):\n",
    "                        if a == b or a == c or a == d or a == e or b == c or b == d or b == e or c == d or c == e or d == e:\n",
    "                            pass\n",
    "                        else:\n",
    "                            if operate(ent[a],ent[b],ent[c],ent[d],ent[e],0,answer) != None:\n",
    "                                works += (operate(ent[a],ent[b],ent[c],ent[d],ent[e],0,answer))\n",
    "                                \n",
    "\n",
    "\n",
    "    for f in range(len(ent)):\n",
    "        for e in range(len(ent)):\n",
    "            for d in range(len(ent)):\n",
    "                for c in range(len(ent)):\n",
    "                    for b in range(len(ent)):\n",
    "                        for a in range(len(ent)):\n",
    "                            if a == b or a == c or a == d or a == e or a == f or b == c or b == d or b == e or b == f or c == d or c == e or c ==f or d == e or d == f or e == f:\n",
    "                                pass\n",
    "                            else:\n",
    "                                if operate(ent[a],ent[b],ent[c],ent[d],ent[e],ent[f],answer) != None:\n",
    "                                    works += (operate(ent[a],ent[b],ent[c],ent[d],ent[e],ent[f],answer))\n",
    "                                    \n",
    "    print \"returning from first bit\"\n",
    "\n",
    "    return works\n",
    "\n",
    "first_bit(br,trazeni_broj)\n",
    "\n",
    "\n",
    "#operate(1,9,2,5,10,25,1)"
   ]
  },
  {
   "cell_type": "code",
   "execution_count": null,
   "metadata": {
    "collapsed": true
   },
   "outputs": [],
   "source": []
  }
 ],
 "metadata": {
  "kernelspec": {
   "display_name": "Python [Root]",
   "language": "python",
   "name": "Python [Root]"
  },
  "language_info": {
   "codemirror_mode": {
    "name": "ipython",
    "version": 2
   },
   "file_extension": ".py",
   "mimetype": "text/x-python",
   "name": "python",
   "nbconvert_exporter": "python",
   "pygments_lexer": "ipython2",
   "version": "2.7.12"
  }
 },
 "nbformat": 4,
 "nbformat_minor": 0
}
